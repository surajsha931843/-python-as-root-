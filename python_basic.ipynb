{
  "nbformat": 4,
  "nbformat_minor": 0,
  "metadata": {
    "colab": {
      "provenance": []
    },
    "kernelspec": {
      "name": "python3",
      "display_name": "Python 3"
    },
    "language_info": {
      "name": "python"
    }
  },
  "cells": [
    {
      "cell_type": "markdown",
      "source": [
        "*DAY 1 *\n",
        "\n",
        "Write simple codes like:\n",
        "\n",
        "• Print first 10 square numbers\n",
        "\n",
        "• Sum of even numbers till 100\n",
        "\n",
        "• List of prime numbers till 50. **bold text**"
      ],
      "metadata": {
        "id": "Mk_4IYoIcmjQ"
      }
    },
    {
      "cell_type": "code",
      "source": [
        "# print first 10 square numbers\n",
        "for i in range(1,11):\n",
        "  a=i*i\n",
        "  print(a)"
      ],
      "metadata": {
        "colab": {
          "base_uri": "https://localhost:8080/"
        },
        "id": "lBZObXVPcx5P",
        "outputId": "d39fec0a-202f-4b2a-ce5b-e62f83232e02"
      },
      "execution_count": null,
      "outputs": [
        {
          "output_type": "stream",
          "name": "stdout",
          "text": [
            "1\n",
            "4\n",
            "9\n",
            "16\n",
            "25\n",
            "36\n",
            "49\n",
            "64\n",
            "81\n",
            "100\n"
          ]
        }
      ]
    },
    {
      "cell_type": "markdown",
      "source": [],
      "metadata": {
        "id": "f-tCtACocgOT"
      }
    },
    {
      "cell_type": "code",
      "source": [
        "# Sum of even numbers till 100\n",
        "a=0\n",
        "for i in range(2,101):\n",
        "  if i%2==0:\n",
        "    a=a+i\n",
        "\n",
        "print(a)"
      ],
      "metadata": {
        "colab": {
          "base_uri": "https://localhost:8080/"
        },
        "id": "v1TEJVpqcg_P",
        "outputId": "78ccf549-2efe-4209-83f1-4107be162662"
      },
      "execution_count": null,
      "outputs": [
        {
          "output_type": "stream",
          "name": "stdout",
          "text": [
            "2550\n"
          ]
        }
      ]
    },
    {
      "cell_type": "code",
      "source": [
        "# List of prime numbers till 50.\n",
        "for i in range(2,51):\n",
        "  prime=True\n",
        "  for j in range(2,int(i**0.5)+1):\n",
        "    if i%j==0:\n",
        "      prime=False\n",
        "      break\n",
        "  if prime:\n",
        "    print(i)\n"
      ],
      "metadata": {
        "colab": {
          "base_uri": "https://localhost:8080/"
        },
        "id": "PRgS9Y4sk-fG",
        "outputId": "3e330fbb-b87a-45cd-c093-566089e4cf04"
      },
      "execution_count": null,
      "outputs": [
        {
          "output_type": "stream",
          "name": "stdout",
          "text": [
            "2\n",
            "3\n",
            "5\n",
            "7\n",
            "11\n",
            "13\n",
            "17\n",
            "19\n",
            "23\n",
            "29\n",
            "31\n",
            "37\n",
            "41\n",
            "43\n",
            "47\n"
          ]
        }
      ]
    },
    {
      "cell_type": "markdown",
      "source": [
        "DAY 2\n",
        "1. Print all prime numbers between 50 and 100."
      ],
      "metadata": {
        "id": "W---4Uor_2py"
      }
    },
    {
      "cell_type": "code",
      "source": [
        "for i in range(50,101):\n",
        "  prime=True\n",
        "  for j in range(2,int(i**0.5)+1):\n",
        "    if i%j==0:\n",
        "      prime= False\n",
        "      break\n",
        "  if prime:\n",
        "    print(i)"
      ],
      "metadata": {
        "colab": {
          "base_uri": "https://localhost:8080/"
        },
        "id": "0YJtUV7s7kKv",
        "outputId": "e8caf80e-ec55-4699-c730-a978d278c47f"
      },
      "execution_count": null,
      "outputs": [
        {
          "output_type": "stream",
          "name": "stdout",
          "text": [
            "53\n",
            "59\n",
            "61\n",
            "67\n",
            "71\n",
            "73\n",
            "79\n",
            "83\n",
            "89\n",
            "97\n"
          ]
        }
      ]
    },
    {
      "cell_type": "code",
      "source": [],
      "metadata": {
        "id": "ri20rse4uh8f"
      },
      "execution_count": null,
      "outputs": []
    }
  ]
}