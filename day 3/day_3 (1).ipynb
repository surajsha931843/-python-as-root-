{
  "nbformat": 4,
  "nbformat_minor": 0,
  "metadata": {
    "colab": {
      "provenance": []
    },
    "kernelspec": {
      "name": "python3",
      "display_name": "Python 3"
    },
    "language_info": {
      "name": "python"
    }
  },
  "cells": [
    {
      "cell_type": "markdown",
      "source": [
        "Today practice: If-else, For-loops, Functions.\n",
        "- Write 3 small codes:\n",
        "1. Even/Odd Checker\n",
        "2. Find factorial of a number\n",
        "3. Function to check prime number."
      ],
      "metadata": {
        "id": "zvig7Re-_9tC"
      }
    },
    {
      "cell_type": "code",
      "source": [
        "# 1. Even /odd checker\n",
        "a=int(input(\"enter a number:\"))\n",
        "if a>=0:\n",
        "  if a%2==0:\n",
        "    print(\"Even\")\n",
        "  else:\n",
        "    print(\"Odd\")\n",
        "else:\n",
        "  print(\"negative number\")"
      ],
      "metadata": {
        "colab": {
          "base_uri": "https://localhost:8080/"
        },
        "id": "Roj27TEsAC3J",
        "outputId": "712a0791-d9e8-491d-f028-4ac24b93a0b8"
      },
      "execution_count": 1,
      "outputs": [
        {
          "output_type": "stream",
          "name": "stdout",
          "text": [
            "enter a number:5\n",
            "Odd\n"
          ]
        }
      ]
    },
    {
      "cell_type": "code",
      "source": [
        "# 2. find the factorial of a number\n",
        "a=int(input(\"factorial of a number you want:\"))\n",
        "fact=1\n",
        "for i in range(a,1,-1):\n",
        "  fact=fact*i\n",
        "print(fact)"
      ],
      "metadata": {
        "colab": {
          "base_uri": "https://localhost:8080/"
        },
        "id": "7iPlWUOQA_vq",
        "outputId": "a8dcbfbd-b95c-4ab3-bceb-ac9af3c75dcb"
      },
      "execution_count": 2,
      "outputs": [
        {
          "output_type": "stream",
          "name": "stdout",
          "text": [
            "factorial of a number you want:5\n",
            "120\n"
          ]
        }
      ]
    },
    {
      "cell_type": "code",
      "source": [
        "# 3.Function to check prime number.\n",
        "def prime_no(num):\n",
        "  if num<2:\n",
        "    print(\"it is not prime\")\n",
        "\n",
        "  prime=True\n",
        "  for i in range(2,int(num**0.5)+1):\n",
        "    if num%i==0:\n",
        "      prime=False\n",
        "      break\n",
        "\n",
        "  if prime:\n",
        "    print('yes, num is prime')\n",
        "  else:\n",
        "    print('no, num is not prime')"
      ],
      "metadata": {
        "id": "J1tZ0T3lIjZL"
      },
      "execution_count": 5,
      "outputs": []
    },
    {
      "cell_type": "code",
      "source": [
        "prime_no(9)"
      ],
      "metadata": {
        "colab": {
          "base_uri": "https://localhost:8080/"
        },
        "id": "V5T8NdDYLNDn",
        "outputId": "30f910fd-90bb-4f00-bc96-fce63067bdbb"
      },
      "execution_count": 6,
      "outputs": [
        {
          "output_type": "stream",
          "name": "stdout",
          "text": [
            "no, num is not prime\n"
          ]
        }
      ]
    },
    {
      "cell_type": "code",
      "source": [],
      "metadata": {
        "id": "wYWbyaqmLR4s"
      },
      "execution_count": 4,
      "outputs": []
    }
  ]
}