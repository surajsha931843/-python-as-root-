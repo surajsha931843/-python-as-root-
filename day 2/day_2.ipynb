{
  "nbformat": 4,
  "nbformat_minor": 0,
  "metadata": {
    "colab": {
      "provenance": []
    },
    "kernelspec": {
      "name": "python3",
      "display_name": "Python 3"
    },
    "language_info": {
      "name": "python"
    }
  },
  "cells": [
    {
      "cell_type": "markdown",
      "source": [
        "DAY 2\n",
        "1. Print all prime numbers between 50 and 100."
      ],
      "metadata": {
        "id": "W---4Uor_2py"
      }
    },
    {
      "cell_type": "code",
      "source": [
        "for i in range(50,101):\n",
        "  prime=True\n",
        "  for j in range(2,int(i**0.5)+1):\n",
        "    if i%j==0:\n",
        "      prime= False\n",
        "      break\n",
        "  if prime:\n",
        "    print(i)"
      ],
      "metadata": {
        "colab": {
          "base_uri": "https://localhost:8080/"
        },
        "id": "0YJtUV7s7kKv",
        "outputId": "e8caf80e-ec55-4699-c730-a978d278c47f"
      },
      "execution_count": null,
      "outputs": [
        {
          "output_type": "stream",
          "name": "stdout",
          "text": [
            "53\n",
            "59\n",
            "61\n",
            "67\n",
            "71\n",
            "73\n",
            "79\n",
            "83\n",
            "89\n",
            "97\n"
          ]
        }
      ]
    },
    {
      "cell_type": "code",
      "source": [],
      "metadata": {
        "id": "ri20rse4uh8f"
      },
      "execution_count": null,
      "outputs": []
    }
  ]
}